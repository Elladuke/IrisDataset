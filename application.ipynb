{
 "cells": [
  {
   "cell_type": "code",
   "execution_count": 5,
   "id": "vietnamese-locking",
   "metadata": {},
   "outputs": [],
   "source": [
    "#!/usr/bin/env python\n",
    "# coding: utf-8\n",
    "\n",
    "# In[1]:\n",
    "\n",
    " \n",
    "import uvicorn\n",
    "from fastapi import FastAPI\n",
    "\n",
    "\n",
    "# In[2]:\n",
    "\n",
    "\n",
    "app = FastAPI()\n",
    "\n",
    "\n",
    "# In[3]:\n",
    "\n",
    "\n",
    "@app.get('/')\n",
    "def index():\n",
    "    return{message: \"Flower prediction app\"}\n",
    "\n",
    "\n",
    "# In[16]:\n",
    "\n",
    "\n",
    "@app.get('/Welcome')\n",
    "def get_name(name: str):\n",
    "    return{'Welcome to Ellas Flower prediction app': f'{name}'}\n",
    "\n",
    "\n",
    "# In[18]:\n",
    "\n",
    "\n",
    "#run api with uvicorn\n",
    "if __name__ == 'application':\n",
    "    uvicorn.run(app, host = '127.0.0.1', port = 8000)\n",
    "    loop = asyncio.get_event_loop()\n",
    "    loop.run_until_complete(application())\n",
    "\n",
    "\n",
    "# In[ ]:\n",
    "\n",
    "\n",
    "\n",
    "\n"
   ]
  },
  {
   "cell_type": "code",
   "execution_count": null,
   "id": "arabic-sixth",
   "metadata": {},
   "outputs": [],
   "source": []
  }
 ],
 "metadata": {
  "kernelspec": {
   "display_name": "Python 3",
   "language": "python",
   "name": "python3"
  },
  "language_info": {
   "codemirror_mode": {
    "name": "ipython",
    "version": 3
   },
   "file_extension": ".py",
   "mimetype": "text/x-python",
   "name": "python",
   "nbconvert_exporter": "python",
   "pygments_lexer": "ipython3",
   "version": "3.6.7"
  }
 },
 "nbformat": 4,
 "nbformat_minor": 5
}
