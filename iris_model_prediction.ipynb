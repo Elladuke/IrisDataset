{
 "cells": [
  {
   "cell_type": "code",
   "execution_count": null,
   "metadata": {},
   "outputs": [],
   "source": [
    "#this is a simple data science project\n",
    "#it uses the iris dataset to make predictions and classify flowers\n",
    "#Author: Immanuella Duke"
   ]
  },
  {
   "cell_type": "code",
   "execution_count": 1,
   "metadata": {},
   "outputs": [],
   "source": [
    "import pandas as pd\n",
    "import matplotlib.pyplot as plt\n",
    "import numpy as np\n",
    "from sklearn import preprocessing\n",
    "from sklearn.neighbors import KNeighborsClassifier\n",
    "from sklearn import metrics\n",
    "from sklearn.linear_model import *"
   ]
  },
  {
   "cell_type": "code",
   "execution_count": null,
   "metadata": {},
   "outputs": [],
   "source": [
    "iris = pd.read_csv('data/iris.csv')"
   ]
  },
  {
   "cell_type": "code",
   "execution_count": null,
   "metadata": {},
   "outputs": [],
   "source": [
    "iris"
   ]
  },
  {
   "cell_type": "code",
   "execution_count": null,
   "metadata": {},
   "outputs": [],
   "source": [
    "iris.describe()"
   ]
  },
  {
   "cell_type": "code",
   "execution_count": null,
   "metadata": {},
   "outputs": [],
   "source": [
    "iris.mean()\n"
   ]
  },
  {
   "cell_type": "code",
   "execution_count": null,
   "metadata": {},
   "outputs": [],
   "source": [
    "plt.plot(iris.SepalLengthCm, iris.Species, 'go')\n",
    "plt.ylabel('species')\n",
    "plt.suptitle('Plot for species')"
   ]
  },
  {
   "cell_type": "code",
   "execution_count": null,
   "metadata": {},
   "outputs": [],
   "source": [
    "#classification algorithms for python\n",
    "\n",
    "#K nearest neighbours\n",
    "#4 features and 1 label\n",
    "\n",
    "sepal_length = iris.SepalLengthCm\n",
    "sepal_width = iris.SepalWidthCm\n",
    "petal_length = iris.PetalLengthCm\n",
    "petal_width = iris.PetalWidthCm\n",
    "\n",
    "species = iris.Species\n",
    "\n",
    "#encoding the string columns\n",
    "#creating a label encoder\n",
    "le = preprocessing.LabelEncoder()\n",
    "species_encoded = le.fit_transform(species)\n",
    "\n",
    "#features list\n",
    "features_list = list(zip(sepal_length, sepal_width, petal_length, petal_width))\n",
    "\n",
    "model = KNeighborsClassifier(n_neighbors = 3)\n",
    "\n",
    "\n",
    "model.fit(features_list, species_encoded)\n",
    "\n",
    "print(\"Find out what type of flower you have? \")\n",
    "sepal_l = eval(input(\"Enter the sepal length: \"))\n",
    "sepal_w =  eval(input(\"Enter the sepal width: \"))\n",
    "petal_l =  eval(input(\"Enter the petal length: \"))\n",
    "petal_w =  eval(input(\"Enter the petal width: \"))\n",
    "\n",
    "\n",
    "\n",
    "predicted = model.predict([[sepal_l, sepal_w, petal_l, petal_w]]) \n",
    "\n",
    "\n",
    "if (predicted == 0):\n",
    "    print('This flower is iris-setosa')\n",
    "elif (predicted == 1):\n",
    "    print ('This flower is iris versicolor')\n",
    "else:\n",
    "    print('This flower is iris virginica')\n"
   ]
  },
  {
   "cell_type": "code",
   "execution_count": null,
   "metadata": {},
   "outputs": [],
   "source": [
    "#measuring the accuracy using all the data\n",
    "ypred = model.predict(features_list)\n",
    "print(\"Performance of model using all data: \", metrics.accuracy_score(species_encoded, ypred))"
   ]
  },
  {
   "cell_type": "code",
   "execution_count": 15,
   "metadata": {},
   "outputs": [
    {
     "name": "stdout",
     "output_type": "stream",
     "text": [
      "Performance of model using train-test split:  0.98\n"
     ]
    }
   ],
   "source": [
    "#next step is to use a train/test split \n",
    "iris = pd.read_csv('data/iris.csv')\n",
    "size = 100\n",
    "\n",
    "#setting frac to 1 gives back the whole sample of data but in a randomized form, \n",
    "#setting dropped to true, drops the original indexes\n",
    "shuffled_iris = iris.sample(frac = 1).reset_index(drop=True)\n",
    "\n",
    "#training set features and labels\n",
    "train_set_x = shuffled_iris.loc[1:size, [\"SepalLengthCm\", \"SepalWidthCm\",\"PetalLengthCm\",  \"PetalWidthCm\"]]\n",
    "train_set_y = shuffled_iris.loc[1:size, [\"Species\"]]\n",
    "\n",
    "#test set features and labels\n",
    "test_set_x = shuffled_iris.loc[size:,[\"SepalLengthCm\", \"SepalWidthCm\",\"PetalLengthCm\",  \"PetalWidthCm\"]]\n",
    "test_set_y = shuffled_iris.loc[size:, [\"Species\"]]\n",
    "\n",
    "\n",
    "\n",
    "#let's use logistic regression this time\n",
    "\n",
    "lmodel = LogisticRegression(random_state=0, solver='lbfgs', multi_class='auto', max_iter = 200)\n",
    "lmodel.fit(train_set_x, np.ravel(train_set_y))\n",
    "\n",
    "y_pred = lmodel.predict(test_set_x)\n",
    "\n",
    "print(\"Performance of model using train-test split: \", metrics.accuracy_score(test_set_y, y_pred))\n",
    "\n"
   ]
  },
  {
   "cell_type": "code",
   "execution_count": null,
   "metadata": {},
   "outputs": [],
   "source": [
    "#done with the project: used K nearest neighbours and logistic regression to work on iris data set. \n",
    "#evaluated the models too. 0.96 on overfit model and 0.98 on train-test split model. Hurray!"
   ]
  }
 ],
 "metadata": {
  "kernelspec": {
   "display_name": "Python 3",
   "language": "python",
   "name": "python3"
  },
  "language_info": {
   "codemirror_mode": {
    "name": "ipython",
    "version": 3
   },
   "file_extension": ".py",
   "mimetype": "text/x-python",
   "name": "python",
   "nbconvert_exporter": "python",
   "pygments_lexer": "ipython3",
   "version": "3.7.4"
  }
 },
 "nbformat": 4,
 "nbformat_minor": 2
}
